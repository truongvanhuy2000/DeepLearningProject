{
  "nbformat": 4,
  "nbformat_minor": 0,
  "metadata": {
    "colab": {
      "name": "Copy of Emotion Classification.ipynb",
      "provenance": [],
      "collapsed_sections": [],
      "include_colab_link": true
    },
    "kernelspec": {
      "name": "python3",
      "display_name": "Python 3"
    },
    "language_info": {
      "name": "python"
    },
    "accelerator": "GPU",
    "gpuClass": "standard"
  },
  "cells": [
    {
      "cell_type": "markdown",
      "metadata": {
        "id": "view-in-github",
        "colab_type": "text"
      },
      "source": [
        "<a href=\"https://colab.research.google.com/github/truongvanhuy2000/DeepLearningProject/blob/main/Copy_of_Emotion_Classification.ipynb\" target=\"_parent\"><img src=\"https://colab.research.google.com/assets/colab-badge.svg\" alt=\"Open In Colab\"/></a>"
      ]
    },
    {
      "cell_type": "code",
      "source": [
        "from google.colab import drive\n",
        "drive.mount('/content/drive')"
      ],
      "metadata": {
        "id": "7yZnKjRB_ICA",
        "outputId": "e1b8e801-8f10-4e16-cc23-7529792cda92",
        "colab": {
          "base_uri": "https://localhost:8080/"
        }
      },
      "execution_count": 1,
      "outputs": [
        {
          "output_type": "stream",
          "name": "stdout",
          "text": [
            "Mounted at /content/drive\n"
          ]
        }
      ]
    },
    {
      "cell_type": "code",
      "source": [
        "import tensorflow as tf\n",
        "print(tf.version.VERSION)"
      ],
      "metadata": {
        "colab": {
          "base_uri": "https://localhost:8080/"
        },
        "id": "Wel5ZxemIFXr",
        "outputId": "2f823c13-85c1-4c8f-f17f-2a452262e52e"
      },
      "execution_count": null,
      "outputs": [
        {
          "output_type": "stream",
          "name": "stdout",
          "text": [
            "2.8.2\n"
          ]
        }
      ]
    },
    {
      "cell_type": "markdown",
      "source": [
        "# Importing Libraries"
      ],
      "metadata": {
        "id": "941TVnUM6ZPV"
      }
    },
    {
      "cell_type": "code",
      "execution_count": 2,
      "metadata": {
        "id": "newNbTmDb-P1"
      },
      "outputs": [],
      "source": [
        "import matplotlib.pyplot as plt\n",
        "import numpy as np\n",
        "import pandas as pd\n",
        "import seaborn as sns\n",
        "import os\n",
        "import tensorflow as tf\n",
        "import plotly.express as px\n",
        "\n",
        "from tensorflow.keras.utils import load_img, img_to_array\n",
        "from keras.preprocessing.image import ImageDataGenerator\n",
        "from keras.layers import Dense,Input,Dropout,GlobalAveragePooling2D,Flatten,Conv2D,BatchNormalization,Activation,MaxPooling2D\n",
        "from keras.models import Model,Sequential\n",
        "\n",
        "from tensorflow.keras.optimizers import Adam,SGD,RMSprop"
      ]
    },
    {
      "cell_type": "markdown",
      "source": [
        "# Copy Data From Drive\n"
      ],
      "metadata": {
        "id": "1meRr1ER6ejf"
      }
    },
    {
      "cell_type": "code",
      "source": [
        "!cp '/content/drive/MyDrive/Deep-learning/archive.zip' '/content/' "
      ],
      "metadata": {
        "id": "Mio7LG-mW_qS"
      },
      "execution_count": 4,
      "outputs": []
    },
    {
      "cell_type": "code",
      "source": [
        "import zipfile\n",
        "with zipfile.ZipFile('/content/archive.zip', 'r') as zip_ref:\n",
        "    zip_ref.extractall('/content/')"
      ],
      "metadata": {
        "id": "3-1ls1c8z_2a"
      },
      "execution_count": 6,
      "outputs": []
    },
    {
      "cell_type": "markdown",
      "source": [
        "# Displaying Images"
      ],
      "metadata": {
        "id": "G2xumR2v6cu0"
      }
    },
    {
      "cell_type": "code",
      "source": [
        "picture_size = 48\n",
        "folder_path = \"/content/images/\""
      ],
      "metadata": {
        "id": "1M8YghQ0mf5Q"
      },
      "execution_count": 7,
      "outputs": []
    },
    {
      "cell_type": "code",
      "source": [
        "import fnmatch\n",
        "train_count = []\n",
        "valid_count = []\n",
        "dỉr_label  = ['angry', 'disgust', 'fear', 'happy', 'neutral', 'sad', \"surprise\"]\n",
        "for i in range(len(dỉr_label)):\n",
        "  train_count.append(len(fnmatch.filter(os.listdir(folder_path + 'train/' + dỉr_label[i]), '*.*')))\n",
        "  valid_count.append(len(fnmatch.filter(os.listdir(folder_path + 'validation/' + dỉr_label[i]), '*.*')))\n",
        "print('Train Count:', train_count)\n",
        "print('Valid count:', valid_count)"
      ],
      "metadata": {
        "colab": {
          "base_uri": "https://localhost:8080/"
        },
        "id": "8XqrxJ2C4rkP",
        "outputId": "e7e6614e-71c3-4d54-e45f-9e1b2ec75444"
      },
      "execution_count": 8,
      "outputs": [
        {
          "output_type": "stream",
          "name": "stdout",
          "text": [
            "Train Count: [3993, 436, 4103, 7164, 4982, 4938, 3205]\n",
            "Valid count: [960, 111, 1018, 1825, 1216, 1139, 797]\n"
          ]
        }
      ]
    },
    {
      "cell_type": "code",
      "source": [
        "expression = 'disgust'\n",
        "\n",
        "plt.figure(figsize= (12,12))\n",
        "for i in range(1, 10, 1):\n",
        "    plt.subplot(3,3,i)\n",
        "    img = load_img(folder_path+\"train/\"+expression+\"/\"+\n",
        "                  os.listdir(folder_path + \"train/\" + expression)[i], target_size=(picture_size, picture_size))\n",
        "    plt.imshow(img)   \n",
        "plt.show()"
      ],
      "metadata": {
        "id": "BElMBBvBVdt8"
      },
      "execution_count": null,
      "outputs": []
    },
    {
      "cell_type": "code",
      "source": [
        "def plotDistribution(count):\n",
        "  CLASS_LABELS  = ['Anger', 'Disgust', 'Fear', 'Happy', 'Neutral', 'Sadness', \"Surprise\"]\n",
        "  fig = px.bar(x = CLASS_LABELS,\n",
        "              y = [count[i] for i in range(7)] , \n",
        "              color = np.unique(count),\n",
        "              color_continuous_scale=\"Emrld\") \n",
        "  fig.update_xaxes(title=\"Emotions\")\n",
        "  fig.update_yaxes(title = \"Number of Images\")\n",
        "  fig.update_layout(showlegend = True,\n",
        "      title = {\n",
        "          'text': 'Train Data Distribution ',\n",
        "          'y':0.95,\n",
        "          'x':0.5,\n",
        "          'xanchor': 'center',\n",
        "          'yanchor': 'top'})\n",
        "  fig.show()"
      ],
      "metadata": {
        "id": "XkwueR5vUnkM"
      },
      "execution_count": 9,
      "outputs": []
    },
    {
      "cell_type": "code",
      "source": [
        "plotDistribution(train_count)\n",
        "plotDistribution(valid_count)"
      ],
      "metadata": {
        "id": "MrPvUJ7KERlq",
        "outputId": "c0e523d5-4d94-42d0-e675-62c8d38e96ef",
        "colab": {
          "base_uri": "https://localhost:8080/",
          "height": 1000
        }
      },
      "execution_count": 10,
      "outputs": [
        {
          "output_type": "display_data",
          "data": {
            "text/html": [
              "<html>\n",
              "<head><meta charset=\"utf-8\" /></head>\n",
              "<body>\n",
              "    <div>            <script src=\"https://cdnjs.cloudflare.com/ajax/libs/mathjax/2.7.5/MathJax.js?config=TeX-AMS-MML_SVG\"></script><script type=\"text/javascript\">if (window.MathJax) {MathJax.Hub.Config({SVG: {font: \"STIX-Web\"}});}</script>                <script type=\"text/javascript\">window.PlotlyConfig = {MathJaxConfig: 'local'};</script>\n",
              "        <script src=\"https://cdn.plot.ly/plotly-2.8.3.min.js\"></script>                <div id=\"874d9bc6-079a-4455-aedf-c847384999aa\" class=\"plotly-graph-div\" style=\"height:525px; width:100%;\"></div>            <script type=\"text/javascript\">                                    window.PLOTLYENV=window.PLOTLYENV || {};                                    if (document.getElementById(\"874d9bc6-079a-4455-aedf-c847384999aa\")) {                    Plotly.newPlot(                        \"874d9bc6-079a-4455-aedf-c847384999aa\",                        [{\"alignmentgroup\":\"True\",\"hovertemplate\":\"x=%{x}<br>y=%{y}<br>color=%{marker.color}<extra></extra>\",\"legendgroup\":\"\",\"marker\":{\"color\":[436,3205,3993,4103,4938,4982,7164],\"coloraxis\":\"coloraxis\",\"pattern\":{\"shape\":\"\"}},\"name\":\"\",\"offsetgroup\":\"\",\"orientation\":\"v\",\"showlegend\":false,\"textposition\":\"auto\",\"x\":[\"Anger\",\"Disgust\",\"Fear\",\"Happy\",\"Neutral\",\"Sadness\",\"Surprise\"],\"xaxis\":\"x\",\"y\":[3993,436,4103,7164,4982,4938,3205],\"yaxis\":\"y\",\"type\":\"bar\"}],                        {\"template\":{\"data\":{\"bar\":[{\"error_x\":{\"color\":\"#2a3f5f\"},\"error_y\":{\"color\":\"#2a3f5f\"},\"marker\":{\"line\":{\"color\":\"#E5ECF6\",\"width\":0.5},\"pattern\":{\"fillmode\":\"overlay\",\"size\":10,\"solidity\":0.2}},\"type\":\"bar\"}],\"barpolar\":[{\"marker\":{\"line\":{\"color\":\"#E5ECF6\",\"width\":0.5},\"pattern\":{\"fillmode\":\"overlay\",\"size\":10,\"solidity\":0.2}},\"type\":\"barpolar\"}],\"carpet\":[{\"aaxis\":{\"endlinecolor\":\"#2a3f5f\",\"gridcolor\":\"white\",\"linecolor\":\"white\",\"minorgridcolor\":\"white\",\"startlinecolor\":\"#2a3f5f\"},\"baxis\":{\"endlinecolor\":\"#2a3f5f\",\"gridcolor\":\"white\",\"linecolor\":\"white\",\"minorgridcolor\":\"white\",\"startlinecolor\":\"#2a3f5f\"},\"type\":\"carpet\"}],\"choropleth\":[{\"colorbar\":{\"outlinewidth\":0,\"ticks\":\"\"},\"type\":\"choropleth\"}],\"contour\":[{\"colorbar\":{\"outlinewidth\":0,\"ticks\":\"\"},\"colorscale\":[[0.0,\"#0d0887\"],[0.1111111111111111,\"#46039f\"],[0.2222222222222222,\"#7201a8\"],[0.3333333333333333,\"#9c179e\"],[0.4444444444444444,\"#bd3786\"],[0.5555555555555556,\"#d8576b\"],[0.6666666666666666,\"#ed7953\"],[0.7777777777777778,\"#fb9f3a\"],[0.8888888888888888,\"#fdca26\"],[1.0,\"#f0f921\"]],\"type\":\"contour\"}],\"contourcarpet\":[{\"colorbar\":{\"outlinewidth\":0,\"ticks\":\"\"},\"type\":\"contourcarpet\"}],\"heatmap\":[{\"colorbar\":{\"outlinewidth\":0,\"ticks\":\"\"},\"colorscale\":[[0.0,\"#0d0887\"],[0.1111111111111111,\"#46039f\"],[0.2222222222222222,\"#7201a8\"],[0.3333333333333333,\"#9c179e\"],[0.4444444444444444,\"#bd3786\"],[0.5555555555555556,\"#d8576b\"],[0.6666666666666666,\"#ed7953\"],[0.7777777777777778,\"#fb9f3a\"],[0.8888888888888888,\"#fdca26\"],[1.0,\"#f0f921\"]],\"type\":\"heatmap\"}],\"heatmapgl\":[{\"colorbar\":{\"outlinewidth\":0,\"ticks\":\"\"},\"colorscale\":[[0.0,\"#0d0887\"],[0.1111111111111111,\"#46039f\"],[0.2222222222222222,\"#7201a8\"],[0.3333333333333333,\"#9c179e\"],[0.4444444444444444,\"#bd3786\"],[0.5555555555555556,\"#d8576b\"],[0.6666666666666666,\"#ed7953\"],[0.7777777777777778,\"#fb9f3a\"],[0.8888888888888888,\"#fdca26\"],[1.0,\"#f0f921\"]],\"type\":\"heatmapgl\"}],\"histogram\":[{\"marker\":{\"pattern\":{\"fillmode\":\"overlay\",\"size\":10,\"solidity\":0.2}},\"type\":\"histogram\"}],\"histogram2d\":[{\"colorbar\":{\"outlinewidth\":0,\"ticks\":\"\"},\"colorscale\":[[0.0,\"#0d0887\"],[0.1111111111111111,\"#46039f\"],[0.2222222222222222,\"#7201a8\"],[0.3333333333333333,\"#9c179e\"],[0.4444444444444444,\"#bd3786\"],[0.5555555555555556,\"#d8576b\"],[0.6666666666666666,\"#ed7953\"],[0.7777777777777778,\"#fb9f3a\"],[0.8888888888888888,\"#fdca26\"],[1.0,\"#f0f921\"]],\"type\":\"histogram2d\"}],\"histogram2dcontour\":[{\"colorbar\":{\"outlinewidth\":0,\"ticks\":\"\"},\"colorscale\":[[0.0,\"#0d0887\"],[0.1111111111111111,\"#46039f\"],[0.2222222222222222,\"#7201a8\"],[0.3333333333333333,\"#9c179e\"],[0.4444444444444444,\"#bd3786\"],[0.5555555555555556,\"#d8576b\"],[0.6666666666666666,\"#ed7953\"],[0.7777777777777778,\"#fb9f3a\"],[0.8888888888888888,\"#fdca26\"],[1.0,\"#f0f921\"]],\"type\":\"histogram2dcontour\"}],\"mesh3d\":[{\"colorbar\":{\"outlinewidth\":0,\"ticks\":\"\"},\"type\":\"mesh3d\"}],\"parcoords\":[{\"line\":{\"colorbar\":{\"outlinewidth\":0,\"ticks\":\"\"}},\"type\":\"parcoords\"}],\"pie\":[{\"automargin\":true,\"type\":\"pie\"}],\"scatter\":[{\"marker\":{\"colorbar\":{\"outlinewidth\":0,\"ticks\":\"\"}},\"type\":\"scatter\"}],\"scatter3d\":[{\"line\":{\"colorbar\":{\"outlinewidth\":0,\"ticks\":\"\"}},\"marker\":{\"colorbar\":{\"outlinewidth\":0,\"ticks\":\"\"}},\"type\":\"scatter3d\"}],\"scattercarpet\":[{\"marker\":{\"colorbar\":{\"outlinewidth\":0,\"ticks\":\"\"}},\"type\":\"scattercarpet\"}],\"scattergeo\":[{\"marker\":{\"colorbar\":{\"outlinewidth\":0,\"ticks\":\"\"}},\"type\":\"scattergeo\"}],\"scattergl\":[{\"marker\":{\"colorbar\":{\"outlinewidth\":0,\"ticks\":\"\"}},\"type\":\"scattergl\"}],\"scattermapbox\":[{\"marker\":{\"colorbar\":{\"outlinewidth\":0,\"ticks\":\"\"}},\"type\":\"scattermapbox\"}],\"scatterpolar\":[{\"marker\":{\"colorbar\":{\"outlinewidth\":0,\"ticks\":\"\"}},\"type\":\"scatterpolar\"}],\"scatterpolargl\":[{\"marker\":{\"colorbar\":{\"outlinewidth\":0,\"ticks\":\"\"}},\"type\":\"scatterpolargl\"}],\"scatterternary\":[{\"marker\":{\"colorbar\":{\"outlinewidth\":0,\"ticks\":\"\"}},\"type\":\"scatterternary\"}],\"surface\":[{\"colorbar\":{\"outlinewidth\":0,\"ticks\":\"\"},\"colorscale\":[[0.0,\"#0d0887\"],[0.1111111111111111,\"#46039f\"],[0.2222222222222222,\"#7201a8\"],[0.3333333333333333,\"#9c179e\"],[0.4444444444444444,\"#bd3786\"],[0.5555555555555556,\"#d8576b\"],[0.6666666666666666,\"#ed7953\"],[0.7777777777777778,\"#fb9f3a\"],[0.8888888888888888,\"#fdca26\"],[1.0,\"#f0f921\"]],\"type\":\"surface\"}],\"table\":[{\"cells\":{\"fill\":{\"color\":\"#EBF0F8\"},\"line\":{\"color\":\"white\"}},\"header\":{\"fill\":{\"color\":\"#C8D4E3\"},\"line\":{\"color\":\"white\"}},\"type\":\"table\"}]},\"layout\":{\"annotationdefaults\":{\"arrowcolor\":\"#2a3f5f\",\"arrowhead\":0,\"arrowwidth\":1},\"autotypenumbers\":\"strict\",\"coloraxis\":{\"colorbar\":{\"outlinewidth\":0,\"ticks\":\"\"}},\"colorscale\":{\"diverging\":[[0,\"#8e0152\"],[0.1,\"#c51b7d\"],[0.2,\"#de77ae\"],[0.3,\"#f1b6da\"],[0.4,\"#fde0ef\"],[0.5,\"#f7f7f7\"],[0.6,\"#e6f5d0\"],[0.7,\"#b8e186\"],[0.8,\"#7fbc41\"],[0.9,\"#4d9221\"],[1,\"#276419\"]],\"sequential\":[[0.0,\"#0d0887\"],[0.1111111111111111,\"#46039f\"],[0.2222222222222222,\"#7201a8\"],[0.3333333333333333,\"#9c179e\"],[0.4444444444444444,\"#bd3786\"],[0.5555555555555556,\"#d8576b\"],[0.6666666666666666,\"#ed7953\"],[0.7777777777777778,\"#fb9f3a\"],[0.8888888888888888,\"#fdca26\"],[1.0,\"#f0f921\"]],\"sequentialminus\":[[0.0,\"#0d0887\"],[0.1111111111111111,\"#46039f\"],[0.2222222222222222,\"#7201a8\"],[0.3333333333333333,\"#9c179e\"],[0.4444444444444444,\"#bd3786\"],[0.5555555555555556,\"#d8576b\"],[0.6666666666666666,\"#ed7953\"],[0.7777777777777778,\"#fb9f3a\"],[0.8888888888888888,\"#fdca26\"],[1.0,\"#f0f921\"]]},\"colorway\":[\"#636efa\",\"#EF553B\",\"#00cc96\",\"#ab63fa\",\"#FFA15A\",\"#19d3f3\",\"#FF6692\",\"#B6E880\",\"#FF97FF\",\"#FECB52\"],\"font\":{\"color\":\"#2a3f5f\"},\"geo\":{\"bgcolor\":\"white\",\"lakecolor\":\"white\",\"landcolor\":\"#E5ECF6\",\"showlakes\":true,\"showland\":true,\"subunitcolor\":\"white\"},\"hoverlabel\":{\"align\":\"left\"},\"hovermode\":\"closest\",\"mapbox\":{\"style\":\"light\"},\"paper_bgcolor\":\"white\",\"plot_bgcolor\":\"#E5ECF6\",\"polar\":{\"angularaxis\":{\"gridcolor\":\"white\",\"linecolor\":\"white\",\"ticks\":\"\"},\"bgcolor\":\"#E5ECF6\",\"radialaxis\":{\"gridcolor\":\"white\",\"linecolor\":\"white\",\"ticks\":\"\"}},\"scene\":{\"xaxis\":{\"backgroundcolor\":\"#E5ECF6\",\"gridcolor\":\"white\",\"gridwidth\":2,\"linecolor\":\"white\",\"showbackground\":true,\"ticks\":\"\",\"zerolinecolor\":\"white\"},\"yaxis\":{\"backgroundcolor\":\"#E5ECF6\",\"gridcolor\":\"white\",\"gridwidth\":2,\"linecolor\":\"white\",\"showbackground\":true,\"ticks\":\"\",\"zerolinecolor\":\"white\"},\"zaxis\":{\"backgroundcolor\":\"#E5ECF6\",\"gridcolor\":\"white\",\"gridwidth\":2,\"linecolor\":\"white\",\"showbackground\":true,\"ticks\":\"\",\"zerolinecolor\":\"white\"}},\"shapedefaults\":{\"line\":{\"color\":\"#2a3f5f\"}},\"ternary\":{\"aaxis\":{\"gridcolor\":\"white\",\"linecolor\":\"white\",\"ticks\":\"\"},\"baxis\":{\"gridcolor\":\"white\",\"linecolor\":\"white\",\"ticks\":\"\"},\"bgcolor\":\"#E5ECF6\",\"caxis\":{\"gridcolor\":\"white\",\"linecolor\":\"white\",\"ticks\":\"\"}},\"title\":{\"x\":0.05},\"xaxis\":{\"automargin\":true,\"gridcolor\":\"white\",\"linecolor\":\"white\",\"ticks\":\"\",\"title\":{\"standoff\":15},\"zerolinecolor\":\"white\",\"zerolinewidth\":2},\"yaxis\":{\"automargin\":true,\"gridcolor\":\"white\",\"linecolor\":\"white\",\"ticks\":\"\",\"title\":{\"standoff\":15},\"zerolinecolor\":\"white\",\"zerolinewidth\":2}}},\"xaxis\":{\"anchor\":\"y\",\"domain\":[0.0,1.0],\"title\":{\"text\":\"Emotions\"}},\"yaxis\":{\"anchor\":\"x\",\"domain\":[0.0,1.0],\"title\":{\"text\":\"Number of Images\"}},\"coloraxis\":{\"colorbar\":{\"title\":{\"text\":\"color\"}},\"colorscale\":[[0.0,\"rgb(211, 242, 163)\"],[0.16666666666666666,\"rgb(151, 225, 150)\"],[0.3333333333333333,\"rgb(108, 192, 139)\"],[0.5,\"rgb(76, 155, 130)\"],[0.6666666666666666,\"rgb(33, 122, 121)\"],[0.8333333333333334,\"rgb(16, 89, 101)\"],[1.0,\"rgb(7, 64, 80)\"]]},\"legend\":{\"tracegroupgap\":0},\"margin\":{\"t\":60},\"barmode\":\"relative\",\"title\":{\"text\":\"Train Data Distribution \",\"y\":0.95,\"x\":0.5,\"xanchor\":\"center\",\"yanchor\":\"top\"},\"showlegend\":true},                        {\"responsive\": true}                    ).then(function(){\n",
              "                            \n",
              "var gd = document.getElementById('874d9bc6-079a-4455-aedf-c847384999aa');\n",
              "var x = new MutationObserver(function (mutations, observer) {{\n",
              "        var display = window.getComputedStyle(gd).display;\n",
              "        if (!display || display === 'none') {{\n",
              "            console.log([gd, 'removed!']);\n",
              "            Plotly.purge(gd);\n",
              "            observer.disconnect();\n",
              "        }}\n",
              "}});\n",
              "\n",
              "// Listen for the removal of the full notebook cells\n",
              "var notebookContainer = gd.closest('#notebook-container');\n",
              "if (notebookContainer) {{\n",
              "    x.observe(notebookContainer, {childList: true});\n",
              "}}\n",
              "\n",
              "// Listen for the clearing of the current output cell\n",
              "var outputEl = gd.closest('.output');\n",
              "if (outputEl) {{\n",
              "    x.observe(outputEl, {childList: true});\n",
              "}}\n",
              "\n",
              "                        })                };                            </script>        </div>\n",
              "</body>\n",
              "</html>"
            ]
          },
          "metadata": {}
        },
        {
          "output_type": "display_data",
          "data": {
            "text/html": [
              "<html>\n",
              "<head><meta charset=\"utf-8\" /></head>\n",
              "<body>\n",
              "    <div>            <script src=\"https://cdnjs.cloudflare.com/ajax/libs/mathjax/2.7.5/MathJax.js?config=TeX-AMS-MML_SVG\"></script><script type=\"text/javascript\">if (window.MathJax) {MathJax.Hub.Config({SVG: {font: \"STIX-Web\"}});}</script>                <script type=\"text/javascript\">window.PlotlyConfig = {MathJaxConfig: 'local'};</script>\n",
              "        <script src=\"https://cdn.plot.ly/plotly-2.8.3.min.js\"></script>                <div id=\"31e9217f-cbca-432f-827b-fca816e2ed3e\" class=\"plotly-graph-div\" style=\"height:525px; width:100%;\"></div>            <script type=\"text/javascript\">                                    window.PLOTLYENV=window.PLOTLYENV || {};                                    if (document.getElementById(\"31e9217f-cbca-432f-827b-fca816e2ed3e\")) {                    Plotly.newPlot(                        \"31e9217f-cbca-432f-827b-fca816e2ed3e\",                        [{\"alignmentgroup\":\"True\",\"hovertemplate\":\"x=%{x}<br>y=%{y}<br>color=%{marker.color}<extra></extra>\",\"legendgroup\":\"\",\"marker\":{\"color\":[111,797,960,1018,1139,1216,1825],\"coloraxis\":\"coloraxis\",\"pattern\":{\"shape\":\"\"}},\"name\":\"\",\"offsetgroup\":\"\",\"orientation\":\"v\",\"showlegend\":false,\"textposition\":\"auto\",\"x\":[\"Anger\",\"Disgust\",\"Fear\",\"Happy\",\"Neutral\",\"Sadness\",\"Surprise\"],\"xaxis\":\"x\",\"y\":[960,111,1018,1825,1216,1139,797],\"yaxis\":\"y\",\"type\":\"bar\"}],                        {\"template\":{\"data\":{\"bar\":[{\"error_x\":{\"color\":\"#2a3f5f\"},\"error_y\":{\"color\":\"#2a3f5f\"},\"marker\":{\"line\":{\"color\":\"#E5ECF6\",\"width\":0.5},\"pattern\":{\"fillmode\":\"overlay\",\"size\":10,\"solidity\":0.2}},\"type\":\"bar\"}],\"barpolar\":[{\"marker\":{\"line\":{\"color\":\"#E5ECF6\",\"width\":0.5},\"pattern\":{\"fillmode\":\"overlay\",\"size\":10,\"solidity\":0.2}},\"type\":\"barpolar\"}],\"carpet\":[{\"aaxis\":{\"endlinecolor\":\"#2a3f5f\",\"gridcolor\":\"white\",\"linecolor\":\"white\",\"minorgridcolor\":\"white\",\"startlinecolor\":\"#2a3f5f\"},\"baxis\":{\"endlinecolor\":\"#2a3f5f\",\"gridcolor\":\"white\",\"linecolor\":\"white\",\"minorgridcolor\":\"white\",\"startlinecolor\":\"#2a3f5f\"},\"type\":\"carpet\"}],\"choropleth\":[{\"colorbar\":{\"outlinewidth\":0,\"ticks\":\"\"},\"type\":\"choropleth\"}],\"contour\":[{\"colorbar\":{\"outlinewidth\":0,\"ticks\":\"\"},\"colorscale\":[[0.0,\"#0d0887\"],[0.1111111111111111,\"#46039f\"],[0.2222222222222222,\"#7201a8\"],[0.3333333333333333,\"#9c179e\"],[0.4444444444444444,\"#bd3786\"],[0.5555555555555556,\"#d8576b\"],[0.6666666666666666,\"#ed7953\"],[0.7777777777777778,\"#fb9f3a\"],[0.8888888888888888,\"#fdca26\"],[1.0,\"#f0f921\"]],\"type\":\"contour\"}],\"contourcarpet\":[{\"colorbar\":{\"outlinewidth\":0,\"ticks\":\"\"},\"type\":\"contourcarpet\"}],\"heatmap\":[{\"colorbar\":{\"outlinewidth\":0,\"ticks\":\"\"},\"colorscale\":[[0.0,\"#0d0887\"],[0.1111111111111111,\"#46039f\"],[0.2222222222222222,\"#7201a8\"],[0.3333333333333333,\"#9c179e\"],[0.4444444444444444,\"#bd3786\"],[0.5555555555555556,\"#d8576b\"],[0.6666666666666666,\"#ed7953\"],[0.7777777777777778,\"#fb9f3a\"],[0.8888888888888888,\"#fdca26\"],[1.0,\"#f0f921\"]],\"type\":\"heatmap\"}],\"heatmapgl\":[{\"colorbar\":{\"outlinewidth\":0,\"ticks\":\"\"},\"colorscale\":[[0.0,\"#0d0887\"],[0.1111111111111111,\"#46039f\"],[0.2222222222222222,\"#7201a8\"],[0.3333333333333333,\"#9c179e\"],[0.4444444444444444,\"#bd3786\"],[0.5555555555555556,\"#d8576b\"],[0.6666666666666666,\"#ed7953\"],[0.7777777777777778,\"#fb9f3a\"],[0.8888888888888888,\"#fdca26\"],[1.0,\"#f0f921\"]],\"type\":\"heatmapgl\"}],\"histogram\":[{\"marker\":{\"pattern\":{\"fillmode\":\"overlay\",\"size\":10,\"solidity\":0.2}},\"type\":\"histogram\"}],\"histogram2d\":[{\"colorbar\":{\"outlinewidth\":0,\"ticks\":\"\"},\"colorscale\":[[0.0,\"#0d0887\"],[0.1111111111111111,\"#46039f\"],[0.2222222222222222,\"#7201a8\"],[0.3333333333333333,\"#9c179e\"],[0.4444444444444444,\"#bd3786\"],[0.5555555555555556,\"#d8576b\"],[0.6666666666666666,\"#ed7953\"],[0.7777777777777778,\"#fb9f3a\"],[0.8888888888888888,\"#fdca26\"],[1.0,\"#f0f921\"]],\"type\":\"histogram2d\"}],\"histogram2dcontour\":[{\"colorbar\":{\"outlinewidth\":0,\"ticks\":\"\"},\"colorscale\":[[0.0,\"#0d0887\"],[0.1111111111111111,\"#46039f\"],[0.2222222222222222,\"#7201a8\"],[0.3333333333333333,\"#9c179e\"],[0.4444444444444444,\"#bd3786\"],[0.5555555555555556,\"#d8576b\"],[0.6666666666666666,\"#ed7953\"],[0.7777777777777778,\"#fb9f3a\"],[0.8888888888888888,\"#fdca26\"],[1.0,\"#f0f921\"]],\"type\":\"histogram2dcontour\"}],\"mesh3d\":[{\"colorbar\":{\"outlinewidth\":0,\"ticks\":\"\"},\"type\":\"mesh3d\"}],\"parcoords\":[{\"line\":{\"colorbar\":{\"outlinewidth\":0,\"ticks\":\"\"}},\"type\":\"parcoords\"}],\"pie\":[{\"automargin\":true,\"type\":\"pie\"}],\"scatter\":[{\"marker\":{\"colorbar\":{\"outlinewidth\":0,\"ticks\":\"\"}},\"type\":\"scatter\"}],\"scatter3d\":[{\"line\":{\"colorbar\":{\"outlinewidth\":0,\"ticks\":\"\"}},\"marker\":{\"colorbar\":{\"outlinewidth\":0,\"ticks\":\"\"}},\"type\":\"scatter3d\"}],\"scattercarpet\":[{\"marker\":{\"colorbar\":{\"outlinewidth\":0,\"ticks\":\"\"}},\"type\":\"scattercarpet\"}],\"scattergeo\":[{\"marker\":{\"colorbar\":{\"outlinewidth\":0,\"ticks\":\"\"}},\"type\":\"scattergeo\"}],\"scattergl\":[{\"marker\":{\"colorbar\":{\"outlinewidth\":0,\"ticks\":\"\"}},\"type\":\"scattergl\"}],\"scattermapbox\":[{\"marker\":{\"colorbar\":{\"outlinewidth\":0,\"ticks\":\"\"}},\"type\":\"scattermapbox\"}],\"scatterpolar\":[{\"marker\":{\"colorbar\":{\"outlinewidth\":0,\"ticks\":\"\"}},\"type\":\"scatterpolar\"}],\"scatterpolargl\":[{\"marker\":{\"colorbar\":{\"outlinewidth\":0,\"ticks\":\"\"}},\"type\":\"scatterpolargl\"}],\"scatterternary\":[{\"marker\":{\"colorbar\":{\"outlinewidth\":0,\"ticks\":\"\"}},\"type\":\"scatterternary\"}],\"surface\":[{\"colorbar\":{\"outlinewidth\":0,\"ticks\":\"\"},\"colorscale\":[[0.0,\"#0d0887\"],[0.1111111111111111,\"#46039f\"],[0.2222222222222222,\"#7201a8\"],[0.3333333333333333,\"#9c179e\"],[0.4444444444444444,\"#bd3786\"],[0.5555555555555556,\"#d8576b\"],[0.6666666666666666,\"#ed7953\"],[0.7777777777777778,\"#fb9f3a\"],[0.8888888888888888,\"#fdca26\"],[1.0,\"#f0f921\"]],\"type\":\"surface\"}],\"table\":[{\"cells\":{\"fill\":{\"color\":\"#EBF0F8\"},\"line\":{\"color\":\"white\"}},\"header\":{\"fill\":{\"color\":\"#C8D4E3\"},\"line\":{\"color\":\"white\"}},\"type\":\"table\"}]},\"layout\":{\"annotationdefaults\":{\"arrowcolor\":\"#2a3f5f\",\"arrowhead\":0,\"arrowwidth\":1},\"autotypenumbers\":\"strict\",\"coloraxis\":{\"colorbar\":{\"outlinewidth\":0,\"ticks\":\"\"}},\"colorscale\":{\"diverging\":[[0,\"#8e0152\"],[0.1,\"#c51b7d\"],[0.2,\"#de77ae\"],[0.3,\"#f1b6da\"],[0.4,\"#fde0ef\"],[0.5,\"#f7f7f7\"],[0.6,\"#e6f5d0\"],[0.7,\"#b8e186\"],[0.8,\"#7fbc41\"],[0.9,\"#4d9221\"],[1,\"#276419\"]],\"sequential\":[[0.0,\"#0d0887\"],[0.1111111111111111,\"#46039f\"],[0.2222222222222222,\"#7201a8\"],[0.3333333333333333,\"#9c179e\"],[0.4444444444444444,\"#bd3786\"],[0.5555555555555556,\"#d8576b\"],[0.6666666666666666,\"#ed7953\"],[0.7777777777777778,\"#fb9f3a\"],[0.8888888888888888,\"#fdca26\"],[1.0,\"#f0f921\"]],\"sequentialminus\":[[0.0,\"#0d0887\"],[0.1111111111111111,\"#46039f\"],[0.2222222222222222,\"#7201a8\"],[0.3333333333333333,\"#9c179e\"],[0.4444444444444444,\"#bd3786\"],[0.5555555555555556,\"#d8576b\"],[0.6666666666666666,\"#ed7953\"],[0.7777777777777778,\"#fb9f3a\"],[0.8888888888888888,\"#fdca26\"],[1.0,\"#f0f921\"]]},\"colorway\":[\"#636efa\",\"#EF553B\",\"#00cc96\",\"#ab63fa\",\"#FFA15A\",\"#19d3f3\",\"#FF6692\",\"#B6E880\",\"#FF97FF\",\"#FECB52\"],\"font\":{\"color\":\"#2a3f5f\"},\"geo\":{\"bgcolor\":\"white\",\"lakecolor\":\"white\",\"landcolor\":\"#E5ECF6\",\"showlakes\":true,\"showland\":true,\"subunitcolor\":\"white\"},\"hoverlabel\":{\"align\":\"left\"},\"hovermode\":\"closest\",\"mapbox\":{\"style\":\"light\"},\"paper_bgcolor\":\"white\",\"plot_bgcolor\":\"#E5ECF6\",\"polar\":{\"angularaxis\":{\"gridcolor\":\"white\",\"linecolor\":\"white\",\"ticks\":\"\"},\"bgcolor\":\"#E5ECF6\",\"radialaxis\":{\"gridcolor\":\"white\",\"linecolor\":\"white\",\"ticks\":\"\"}},\"scene\":{\"xaxis\":{\"backgroundcolor\":\"#E5ECF6\",\"gridcolor\":\"white\",\"gridwidth\":2,\"linecolor\":\"white\",\"showbackground\":true,\"ticks\":\"\",\"zerolinecolor\":\"white\"},\"yaxis\":{\"backgroundcolor\":\"#E5ECF6\",\"gridcolor\":\"white\",\"gridwidth\":2,\"linecolor\":\"white\",\"showbackground\":true,\"ticks\":\"\",\"zerolinecolor\":\"white\"},\"zaxis\":{\"backgroundcolor\":\"#E5ECF6\",\"gridcolor\":\"white\",\"gridwidth\":2,\"linecolor\":\"white\",\"showbackground\":true,\"ticks\":\"\",\"zerolinecolor\":\"white\"}},\"shapedefaults\":{\"line\":{\"color\":\"#2a3f5f\"}},\"ternary\":{\"aaxis\":{\"gridcolor\":\"white\",\"linecolor\":\"white\",\"ticks\":\"\"},\"baxis\":{\"gridcolor\":\"white\",\"linecolor\":\"white\",\"ticks\":\"\"},\"bgcolor\":\"#E5ECF6\",\"caxis\":{\"gridcolor\":\"white\",\"linecolor\":\"white\",\"ticks\":\"\"}},\"title\":{\"x\":0.05},\"xaxis\":{\"automargin\":true,\"gridcolor\":\"white\",\"linecolor\":\"white\",\"ticks\":\"\",\"title\":{\"standoff\":15},\"zerolinecolor\":\"white\",\"zerolinewidth\":2},\"yaxis\":{\"automargin\":true,\"gridcolor\":\"white\",\"linecolor\":\"white\",\"ticks\":\"\",\"title\":{\"standoff\":15},\"zerolinecolor\":\"white\",\"zerolinewidth\":2}}},\"xaxis\":{\"anchor\":\"y\",\"domain\":[0.0,1.0],\"title\":{\"text\":\"Emotions\"}},\"yaxis\":{\"anchor\":\"x\",\"domain\":[0.0,1.0],\"title\":{\"text\":\"Number of Images\"}},\"coloraxis\":{\"colorbar\":{\"title\":{\"text\":\"color\"}},\"colorscale\":[[0.0,\"rgb(211, 242, 163)\"],[0.16666666666666666,\"rgb(151, 225, 150)\"],[0.3333333333333333,\"rgb(108, 192, 139)\"],[0.5,\"rgb(76, 155, 130)\"],[0.6666666666666666,\"rgb(33, 122, 121)\"],[0.8333333333333334,\"rgb(16, 89, 101)\"],[1.0,\"rgb(7, 64, 80)\"]]},\"legend\":{\"tracegroupgap\":0},\"margin\":{\"t\":60},\"barmode\":\"relative\",\"title\":{\"text\":\"Train Data Distribution \",\"y\":0.95,\"x\":0.5,\"xanchor\":\"center\",\"yanchor\":\"top\"},\"showlegend\":true},                        {\"responsive\": true}                    ).then(function(){\n",
              "                            \n",
              "var gd = document.getElementById('31e9217f-cbca-432f-827b-fca816e2ed3e');\n",
              "var x = new MutationObserver(function (mutations, observer) {{\n",
              "        var display = window.getComputedStyle(gd).display;\n",
              "        if (!display || display === 'none') {{\n",
              "            console.log([gd, 'removed!']);\n",
              "            Plotly.purge(gd);\n",
              "            observer.disconnect();\n",
              "        }}\n",
              "}});\n",
              "\n",
              "// Listen for the removal of the full notebook cells\n",
              "var notebookContainer = gd.closest('#notebook-container');\n",
              "if (notebookContainer) {{\n",
              "    x.observe(notebookContainer, {childList: true});\n",
              "}}\n",
              "\n",
              "// Listen for the clearing of the current output cell\n",
              "var outputEl = gd.closest('.output');\n",
              "if (outputEl) {{\n",
              "    x.observe(outputEl, {childList: true});\n",
              "}}\n",
              "\n",
              "                        })                };                            </script>        </div>\n",
              "</body>\n",
              "</html>"
            ]
          },
          "metadata": {}
        }
      ]
    },
    {
      "cell_type": "markdown",
      "source": [
        "# Making Training and Validation Data"
      ],
      "metadata": {
        "id": "Z9WjrgCI6_YR"
      }
    },
    {
      "cell_type": "code",
      "source": [
        "batch_size  = 64 #128 example per interation\n",
        "\n",
        "datagen_train  = ImageDataGenerator(rescale=1./255,\n",
        "    rotation_range=30,\n",
        "    shear_range=0.3,\n",
        "    zoom_range=0.3,\n",
        "    width_shift_range=0.4,\n",
        "    height_shift_range=0.4,\n",
        "    horizontal_flip=True,\n",
        "    fill_mode='nearest')\n",
        "\n",
        "        \n",
        "datagen_val = ImageDataGenerator(rescale=1./255,\n",
        "    rotation_range=30,\n",
        "    shear_range=0.3,\n",
        "    zoom_range=0.3,\n",
        "    width_shift_range=0.4,\n",
        "    height_shift_range=0.4,\n",
        "    horizontal_flip=True,\n",
        "    fill_mode='nearest')\n",
        "\n",
        "\n",
        "train_set = datagen_train.flow_from_directory(folder_path+\"train\",\n",
        "                                              target_size = (picture_size,picture_size),\n",
        "                                              color_mode = \"grayscale\",\n",
        "                                              batch_size=batch_size,\n",
        "                                              class_mode='categorical',\n",
        "                                              shuffle=True)\n",
        "\n",
        "\n",
        "val_set = datagen_val.flow_from_directory(folder_path+\"validation\",\n",
        "                                              target_size = (picture_size,picture_size),\n",
        "                                              color_mode = \"grayscale\",\n",
        "                                              batch_size=batch_size,\n",
        "                                              class_mode='categorical',\n",
        "                                              shuffle=True)"
      ],
      "metadata": {
        "colab": {
          "base_uri": "https://localhost:8080/"
        },
        "id": "UzfWdcjzYuit",
        "outputId": "247460e8-8e56-44d4-de2a-b771d305d689"
      },
      "execution_count": 11,
      "outputs": [
        {
          "output_type": "stream",
          "name": "stdout",
          "text": [
            "Found 28821 images belonging to 7 classes.\n",
            "Found 7066 images belonging to 7 classes.\n"
          ]
        }
      ]
    },
    {
      "cell_type": "markdown",
      "source": [
        "# Model Building"
      ],
      "metadata": {
        "id": "76V1-e-q69vt"
      }
    },
    {
      "cell_type": "code",
      "source": [
        "no_of_classes = 7\n",
        "\n",
        "model = Sequential()\n",
        "\n",
        "#1st CNN layer\n",
        "model.add(Conv2D(64,(3,3), kernel_initializer='HeNormal' ,padding = 'same',input_shape = (48,48,1)))\n",
        "model.add(BatchNormalization())\n",
        "model.add(Activation('relu'))\n",
        "# model.add(MaxPooling2D(pool_size = (2,2)))\n",
        "# model.add(Dropout(0.35))\n",
        "\n",
        "#2nd CNN layer\n",
        "model.add(Conv2D(64,(3,3), kernel_initializer='HeNormal', padding = 'same'))\n",
        "model.add(BatchNormalization())\n",
        "model.add(Activation('relu'))\n",
        "model.add(MaxPooling2D(pool_size = (2,2)))\n",
        "model.add(Dropout(0.35))\n",
        "\n",
        "#3rd CNN layer\n",
        "model.add(Conv2D(128,(3,3), kernel_initializer='HeNormal',padding = 'same'))\n",
        "model.add(BatchNormalization())\n",
        "model.add(Activation('relu'))\n",
        "# model.add(MaxPooling2D(pool_size = (2,2)))\n",
        "# model.add(Dropout (0.5))\n",
        "\n",
        "#4th CNN layer\n",
        "model.add(Conv2D(128,(3,3), kernel_initializer='HeNormal', padding='same'))\n",
        "model.add(BatchNormalization())\n",
        "model.add(Activation('relu'))\n",
        "model.add(MaxPooling2D(pool_size=(2, 2)))\n",
        "model.add(Dropout(0.4))\n",
        "\n",
        "#5th CNN layer\n",
        "model.add(Conv2D(256,(3,3), kernel_initializer='HeNormal', padding='same'))\n",
        "model.add(BatchNormalization())\n",
        "model.add(Activation('relu'))\n",
        "\n",
        "#6th CNN layer\n",
        "model.add(Conv2D(256,(3,3), kernel_initializer='HeNormal', padding='same'))\n",
        "model.add(BatchNormalization())\n",
        "model.add(Activation('relu'))\n",
        "model.add(MaxPooling2D(pool_size=(2, 2)))\n",
        "model.add(Dropout(0.5))\n",
        "\n",
        "model.add(Flatten())\n",
        "\n",
        "#Fully connected 1st layer\n",
        "model.add(Dense(512))\n",
        "model.add(BatchNormalization())\n",
        "model.add(Activation('relu'))\n",
        "\n",
        "\n",
        "# Fully connected layer 2nd layer\n",
        "\n",
        "model.add(Dense(1024))\n",
        "model.add(BatchNormalization())\n",
        "model.add(Activation('relu'))\n",
        "\n",
        "model.add(Dense(no_of_classes, activation='softmax'))\n",
        "\n"
      ],
      "metadata": {
        "id": "rXQE2-pDa3QP"
      },
      "execution_count": null,
      "outputs": []
    },
    {
      "cell_type": "code",
      "source": [
        "from keras.callbacks import ModelCheckpoint, EarlyStopping, ReduceLROnPlateau\n",
        "\n",
        "checkpoint = ModelCheckpoint(\"./model.h5\", monitor='val_acc', verbose=1, save_best_only=True, mode='max')\n",
        "\n",
        "early_stopping = EarlyStopping(monitor='val_loss',\n",
        "                          min_delta=0,\n",
        "                          patience=4,\n",
        "                          verbose=1,\n",
        "                          restore_best_weights=True\n",
        "                          )\n",
        "reduce_learningrate = ReduceLROnPlateau(monitor='val_loss',\n",
        "                              factor=0.2,\n",
        "                              patience=3,\n",
        "                              verbose=1,\n",
        "                              min_delta=0.0001)\n",
        "callbacks_list = [early_stopping,checkpoint,reduce_learningrate]"
      ],
      "metadata": {
        "id": "LowxE_tEflNa"
      },
      "execution_count": null,
      "outputs": []
    },
    {
      "cell_type": "code",
      "source": [
        "opt = Adam(lr = 0.0005)\n",
        "model.compile(optimizer=opt,loss='categorical_crossentropy', metrics=['accuracy'])\n",
        "model.summary()"
      ],
      "metadata": {
        "id": "_lzOBGujUUGU",
        "colab": {
          "base_uri": "https://localhost:8080/"
        },
        "outputId": "d67cefad-396c-4686-e83e-1bd92dd70936"
      },
      "execution_count": null,
      "outputs": [
        {
          "output_type": "stream",
          "name": "stdout",
          "text": [
            "Model: \"sequential_1\"\n",
            "_________________________________________________________________\n",
            " Layer (type)                Output Shape              Param #   \n",
            "=================================================================\n",
            " conv2d_6 (Conv2D)           (None, 48, 48, 64)        640       \n",
            "                                                                 \n",
            " batch_normalization_8 (Batc  (None, 48, 48, 64)       256       \n",
            " hNormalization)                                                 \n",
            "                                                                 \n",
            " activation_8 (Activation)   (None, 48, 48, 64)        0         \n",
            "                                                                 \n",
            " conv2d_7 (Conv2D)           (None, 48, 48, 64)        36928     \n",
            "                                                                 \n",
            " batch_normalization_9 (Batc  (None, 48, 48, 64)       256       \n",
            " hNormalization)                                                 \n",
            "                                                                 \n",
            " activation_9 (Activation)   (None, 48, 48, 64)        0         \n",
            "                                                                 \n",
            " max_pooling2d_3 (MaxPooling  (None, 24, 24, 64)       0         \n",
            " 2D)                                                             \n",
            "                                                                 \n",
            " dropout_3 (Dropout)         (None, 24, 24, 64)        0         \n",
            "                                                                 \n",
            " conv2d_8 (Conv2D)           (None, 24, 24, 128)       73856     \n",
            "                                                                 \n",
            " batch_normalization_10 (Bat  (None, 24, 24, 128)      512       \n",
            " chNormalization)                                                \n",
            "                                                                 \n",
            " activation_10 (Activation)  (None, 24, 24, 128)       0         \n",
            "                                                                 \n",
            " conv2d_9 (Conv2D)           (None, 24, 24, 128)       147584    \n",
            "                                                                 \n",
            " batch_normalization_11 (Bat  (None, 24, 24, 128)      512       \n",
            " chNormalization)                                                \n",
            "                                                                 \n",
            " activation_11 (Activation)  (None, 24, 24, 128)       0         \n",
            "                                                                 \n",
            " max_pooling2d_4 (MaxPooling  (None, 12, 12, 128)      0         \n",
            " 2D)                                                             \n",
            "                                                                 \n",
            " dropout_4 (Dropout)         (None, 12, 12, 128)       0         \n",
            "                                                                 \n",
            " conv2d_10 (Conv2D)          (None, 12, 12, 256)       295168    \n",
            "                                                                 \n",
            " batch_normalization_12 (Bat  (None, 12, 12, 256)      1024      \n",
            " chNormalization)                                                \n",
            "                                                                 \n",
            " activation_12 (Activation)  (None, 12, 12, 256)       0         \n",
            "                                                                 \n",
            " conv2d_11 (Conv2D)          (None, 12, 12, 256)       590080    \n",
            "                                                                 \n",
            " batch_normalization_13 (Bat  (None, 12, 12, 256)      1024      \n",
            " chNormalization)                                                \n",
            "                                                                 \n",
            " activation_13 (Activation)  (None, 12, 12, 256)       0         \n",
            "                                                                 \n",
            " max_pooling2d_5 (MaxPooling  (None, 6, 6, 256)        0         \n",
            " 2D)                                                             \n",
            "                                                                 \n",
            " dropout_5 (Dropout)         (None, 6, 6, 256)         0         \n",
            "                                                                 \n",
            " flatten_1 (Flatten)         (None, 9216)              0         \n",
            "                                                                 \n",
            " dense_3 (Dense)             (None, 512)               4719104   \n",
            "                                                                 \n",
            " batch_normalization_14 (Bat  (None, 512)              2048      \n",
            " chNormalization)                                                \n",
            "                                                                 \n",
            " activation_14 (Activation)  (None, 512)               0         \n",
            "                                                                 \n",
            " dense_4 (Dense)             (None, 1024)              525312    \n",
            "                                                                 \n",
            " batch_normalization_15 (Bat  (None, 1024)             4096      \n",
            " chNormalization)                                                \n",
            "                                                                 \n",
            " activation_15 (Activation)  (None, 1024)              0         \n",
            "                                                                 \n",
            " dense_5 (Dense)             (None, 7)                 7175      \n",
            "                                                                 \n",
            "=================================================================\n",
            "Total params: 6,405,575\n",
            "Trainable params: 6,400,711\n",
            "Non-trainable params: 4,864\n",
            "_________________________________________________________________\n"
          ]
        },
        {
          "output_type": "stream",
          "name": "stderr",
          "text": [
            "/usr/local/lib/python3.7/dist-packages/keras/optimizer_v2/adam.py:105: UserWarning: The `lr` argument is deprecated, use `learning_rate` instead.\n",
            "  super(Adam, self).__init__(name, **kwargs)\n"
          ]
        }
      ]
    },
    {
      "cell_type": "markdown",
      "source": [
        "# Fitting the Model with Training and Validation Data"
      ],
      "metadata": {
        "id": "-qW8YZF61e9P"
      }
    },
    {
      "cell_type": "code",
      "source": [
        "epochs = 100\n",
        "history = model.fit(train_set,steps_per_epoch=train_set.n//train_set.batch_size,\n",
        "                                epochs=epochs,\n",
        "                                validation_data = val_set,\n",
        "                                validation_steps = val_set.n//val_set.batch_size,\n",
        "                                callbacks=callbacks_list\n",
        "                                )"
      ],
      "metadata": {
        "colab": {
          "base_uri": "https://localhost:8080/"
        },
        "id": "StIZKrobiofA",
        "outputId": "de74211f-ac33-4e1f-e373-e19d1d36e68d"
      },
      "execution_count": null,
      "outputs": [
        {
          "output_type": "stream",
          "name": "stdout",
          "text": [
            "Epoch 1/100\n",
            "484/484 [==============================] - ETA: 0s - loss: 1.9153 - accuracy: 0.2180WARNING:tensorflow:Can save best model only with val_acc available, skipping.\n",
            "484/484 [==============================] - 36s 72ms/step - loss: 1.9153 - accuracy: 0.2180 - val_loss: 1.8598 - val_accuracy: 0.2341 - lr: 5.0000e-04\n",
            "Epoch 2/100\n",
            "484/484 [==============================] - ETA: 0s - loss: 1.8377 - accuracy: 0.2345WARNING:tensorflow:Can save best model only with val_acc available, skipping.\n",
            "484/484 [==============================] - 34s 70ms/step - loss: 1.8377 - accuracy: 0.2345 - val_loss: 1.8363 - val_accuracy: 0.2513 - lr: 5.0000e-04\n",
            "Epoch 3/100\n",
            "484/484 [==============================] - ETA: 0s - loss: 1.8271 - accuracy: 0.2366WARNING:tensorflow:Can save best model only with val_acc available, skipping.\n",
            "484/484 [==============================] - 33s 68ms/step - loss: 1.8271 - accuracy: 0.2366 - val_loss: 1.8314 - val_accuracy: 0.2082 - lr: 5.0000e-04\n",
            "Epoch 4/100\n",
            "484/484 [==============================] - ETA: 0s - loss: 1.8232 - accuracy: 0.2418WARNING:tensorflow:Can save best model only with val_acc available, skipping.\n",
            "484/484 [==============================] - 33s 68ms/step - loss: 1.8232 - accuracy: 0.2418 - val_loss: 1.8370 - val_accuracy: 0.2550 - lr: 5.0000e-04\n",
            "Epoch 5/100\n",
            "484/484 [==============================] - ETA: 0s - loss: 1.8129 - accuracy: 0.2466WARNING:tensorflow:Can save best model only with val_acc available, skipping.\n",
            "484/484 [==============================] - 35s 72ms/step - loss: 1.8129 - accuracy: 0.2466 - val_loss: 1.8706 - val_accuracy: 0.2464 - lr: 5.0000e-04\n",
            "Epoch 6/100\n",
            "484/484 [==============================] - ETA: 0s - loss: 1.7972 - accuracy: 0.2571WARNING:tensorflow:Can save best model only with val_acc available, skipping.\n",
            "484/484 [==============================] - 38s 79ms/step - loss: 1.7972 - accuracy: 0.2571 - val_loss: 1.7524 - val_accuracy: 0.2881 - lr: 5.0000e-04\n",
            "Epoch 7/100\n",
            "484/484 [==============================] - ETA: 0s - loss: 1.7686 - accuracy: 0.2758WARNING:tensorflow:Can save best model only with val_acc available, skipping.\n",
            "484/484 [==============================] - 33s 69ms/step - loss: 1.7686 - accuracy: 0.2758 - val_loss: 1.7554 - val_accuracy: 0.2932 - lr: 5.0000e-04\n",
            "Epoch 8/100\n",
            "484/484 [==============================] - ETA: 0s - loss: 1.7317 - accuracy: 0.2988WARNING:tensorflow:Can save best model only with val_acc available, skipping.\n",
            "484/484 [==============================] - 35s 72ms/step - loss: 1.7317 - accuracy: 0.2988 - val_loss: 1.6985 - val_accuracy: 0.3142 - lr: 5.0000e-04\n",
            "Epoch 9/100\n",
            "484/484 [==============================] - ETA: 0s - loss: 1.6889 - accuracy: 0.3211WARNING:tensorflow:Can save best model only with val_acc available, skipping.\n",
            "484/484 [==============================] - 33s 68ms/step - loss: 1.6889 - accuracy: 0.3211 - val_loss: 1.6422 - val_accuracy: 0.3455 - lr: 5.0000e-04\n",
            "Epoch 10/100\n",
            "484/484 [==============================] - ETA: 0s - loss: 1.6389 - accuracy: 0.3511WARNING:tensorflow:Can save best model only with val_acc available, skipping.\n",
            "484/484 [==============================] - 34s 69ms/step - loss: 1.6389 - accuracy: 0.3511 - val_loss: 1.5911 - val_accuracy: 0.3754 - lr: 5.0000e-04\n",
            "Epoch 11/100\n",
            "484/484 [==============================] - ETA: 0s - loss: 1.5973 - accuracy: 0.3695WARNING:tensorflow:Can save best model only with val_acc available, skipping.\n",
            "484/484 [==============================] - 33s 69ms/step - loss: 1.5973 - accuracy: 0.3695 - val_loss: 1.5488 - val_accuracy: 0.4127 - lr: 5.0000e-04\n",
            "Epoch 12/100\n",
            "484/484 [==============================] - ETA: 0s - loss: 1.5466 - accuracy: 0.3938WARNING:tensorflow:Can save best model only with val_acc available, skipping.\n",
            "484/484 [==============================] - 35s 72ms/step - loss: 1.5466 - accuracy: 0.3938 - val_loss: 1.5256 - val_accuracy: 0.4176 - lr: 5.0000e-04\n",
            "Epoch 13/100\n",
            "484/484 [==============================] - ETA: 0s - loss: 1.5105 - accuracy: 0.4131WARNING:tensorflow:Can save best model only with val_acc available, skipping.\n",
            "484/484 [==============================] - 33s 69ms/step - loss: 1.5105 - accuracy: 0.4131 - val_loss: 1.5150 - val_accuracy: 0.4069 - lr: 5.0000e-04\n",
            "Epoch 14/100\n",
            "484/484 [==============================] - ETA: 0s - loss: 1.4735 - accuracy: 0.4302WARNING:tensorflow:Can save best model only with val_acc available, skipping.\n",
            "484/484 [==============================] - 33s 69ms/step - loss: 1.4735 - accuracy: 0.4302 - val_loss: 1.5243 - val_accuracy: 0.4186 - lr: 5.0000e-04\n",
            "Epoch 15/100\n",
            "484/484 [==============================] - ETA: 0s - loss: 1.4383 - accuracy: 0.4476WARNING:tensorflow:Can save best model only with val_acc available, skipping.\n",
            "484/484 [==============================] - 33s 69ms/step - loss: 1.4383 - accuracy: 0.4476 - val_loss: 1.4498 - val_accuracy: 0.4435 - lr: 5.0000e-04\n",
            "Epoch 16/100\n",
            "484/484 [==============================] - ETA: 0s - loss: 1.4152 - accuracy: 0.4565WARNING:tensorflow:Can save best model only with val_acc available, skipping.\n",
            "484/484 [==============================] - 40s 82ms/step - loss: 1.4152 - accuracy: 0.4565 - val_loss: 1.4279 - val_accuracy: 0.4624 - lr: 5.0000e-04\n",
            "Epoch 17/100\n",
            "484/484 [==============================] - ETA: 0s - loss: 1.3863 - accuracy: 0.4652WARNING:tensorflow:Can save best model only with val_acc available, skipping.\n",
            "484/484 [==============================] - 39s 80ms/step - loss: 1.3863 - accuracy: 0.4652 - val_loss: 1.3571 - val_accuracy: 0.4727 - lr: 5.0000e-04\n",
            "Epoch 18/100\n",
            "484/484 [==============================] - ETA: 0s - loss: 1.3725 - accuracy: 0.4728WARNING:tensorflow:Can save best model only with val_acc available, skipping.\n",
            "484/484 [==============================] - 39s 80ms/step - loss: 1.3725 - accuracy: 0.4728 - val_loss: 1.3417 - val_accuracy: 0.4836 - lr: 5.0000e-04\n",
            "Epoch 19/100\n",
            "484/484 [==============================] - ETA: 0s - loss: 1.3558 - accuracy: 0.4773WARNING:tensorflow:Can save best model only with val_acc available, skipping.\n",
            "484/484 [==============================] - 35s 71ms/step - loss: 1.3558 - accuracy: 0.4773 - val_loss: 1.3498 - val_accuracy: 0.4829 - lr: 5.0000e-04\n",
            "Epoch 20/100\n",
            "484/484 [==============================] - ETA: 0s - loss: 1.3317 - accuracy: 0.4924WARNING:tensorflow:Can save best model only with val_acc available, skipping.\n",
            "484/484 [==============================] - 33s 69ms/step - loss: 1.3317 - accuracy: 0.4924 - val_loss: 1.2935 - val_accuracy: 0.5083 - lr: 5.0000e-04\n",
            "Epoch 21/100\n",
            "484/484 [==============================] - ETA: 0s - loss: 1.3226 - accuracy: 0.4966WARNING:tensorflow:Can save best model only with val_acc available, skipping.\n",
            "484/484 [==============================] - 34s 69ms/step - loss: 1.3226 - accuracy: 0.4966 - val_loss: 1.3016 - val_accuracy: 0.5045 - lr: 5.0000e-04\n",
            "Epoch 22/100\n",
            "484/484 [==============================] - ETA: 0s - loss: 1.3034 - accuracy: 0.5030WARNING:tensorflow:Can save best model only with val_acc available, skipping.\n",
            "484/484 [==============================] - 33s 69ms/step - loss: 1.3034 - accuracy: 0.5030 - val_loss: 1.2663 - val_accuracy: 0.5095 - lr: 5.0000e-04\n",
            "Epoch 23/100\n",
            "484/484 [==============================] - ETA: 0s - loss: 1.2952 - accuracy: 0.5067WARNING:tensorflow:Can save best model only with val_acc available, skipping.\n",
            "484/484 [==============================] - 35s 73ms/step - loss: 1.2952 - accuracy: 0.5067 - val_loss: 1.2402 - val_accuracy: 0.5245 - lr: 5.0000e-04\n",
            "Epoch 24/100\n",
            "484/484 [==============================] - ETA: 0s - loss: 1.2806 - accuracy: 0.5108WARNING:tensorflow:Can save best model only with val_acc available, skipping.\n",
            "484/484 [==============================] - 39s 80ms/step - loss: 1.2806 - accuracy: 0.5108 - val_loss: 1.2184 - val_accuracy: 0.5391 - lr: 5.0000e-04\n",
            "Epoch 25/100\n",
            "484/484 [==============================] - ETA: 0s - loss: 1.2667 - accuracy: 0.5211WARNING:tensorflow:Can save best model only with val_acc available, skipping.\n",
            "484/484 [==============================] - 33s 68ms/step - loss: 1.2667 - accuracy: 0.5211 - val_loss: 1.2555 - val_accuracy: 0.5380 - lr: 5.0000e-04\n",
            "Epoch 26/100\n",
            "484/484 [==============================] - ETA: 0s - loss: 1.2589 - accuracy: 0.5224WARNING:tensorflow:Can save best model only with val_acc available, skipping.\n",
            "484/484 [==============================] - 33s 68ms/step - loss: 1.2589 - accuracy: 0.5224 - val_loss: 1.2238 - val_accuracy: 0.5445 - lr: 5.0000e-04\n",
            "Epoch 27/100\n",
            "483/484 [============================>.] - ETA: 0s - loss: 1.2469 - accuracy: 0.5269WARNING:tensorflow:Can save best model only with val_acc available, skipping.\n",
            "484/484 [==============================] - 32s 66ms/step - loss: 1.2468 - accuracy: 0.5270 - val_loss: 1.2116 - val_accuracy: 0.5475 - lr: 5.0000e-04\n",
            "Epoch 28/100\n",
            "484/484 [==============================] - ETA: 0s - loss: 1.2316 - accuracy: 0.5334WARNING:tensorflow:Can save best model only with val_acc available, skipping.\n",
            "484/484 [==============================] - 31s 65ms/step - loss: 1.2316 - accuracy: 0.5334 - val_loss: 1.2050 - val_accuracy: 0.5510 - lr: 5.0000e-04\n",
            "Epoch 29/100\n",
            "484/484 [==============================] - ETA: 0s - loss: 1.2273 - accuracy: 0.5341WARNING:tensorflow:Can save best model only with val_acc available, skipping.\n",
            "484/484 [==============================] - 31s 64ms/step - loss: 1.2273 - accuracy: 0.5341 - val_loss: 1.2504 - val_accuracy: 0.5388 - lr: 5.0000e-04\n",
            "Epoch 30/100\n",
            "484/484 [==============================] - ETA: 0s - loss: 1.2217 - accuracy: 0.5408WARNING:tensorflow:Can save best model only with val_acc available, skipping.\n",
            "484/484 [==============================] - 32s 67ms/step - loss: 1.2217 - accuracy: 0.5408 - val_loss: 1.1693 - val_accuracy: 0.5597 - lr: 5.0000e-04\n",
            "Epoch 31/100\n",
            "484/484 [==============================] - ETA: 0s - loss: 1.2137 - accuracy: 0.5418WARNING:tensorflow:Can save best model only with val_acc available, skipping.\n",
            "484/484 [==============================] - 31s 64ms/step - loss: 1.2137 - accuracy: 0.5418 - val_loss: 1.2343 - val_accuracy: 0.5320 - lr: 5.0000e-04\n",
            "Epoch 32/100\n",
            "484/484 [==============================] - ETA: 0s - loss: 1.2137 - accuracy: 0.5384WARNING:tensorflow:Can save best model only with val_acc available, skipping.\n",
            "484/484 [==============================] - 31s 64ms/step - loss: 1.2137 - accuracy: 0.5384 - val_loss: 1.1368 - val_accuracy: 0.5679 - lr: 5.0000e-04\n",
            "Epoch 33/100\n",
            "484/484 [==============================] - ETA: 0s - loss: 1.1952 - accuracy: 0.5466WARNING:tensorflow:Can save best model only with val_acc available, skipping.\n",
            "484/484 [==============================] - 33s 67ms/step - loss: 1.1952 - accuracy: 0.5466 - val_loss: 1.1538 - val_accuracy: 0.5727 - lr: 5.0000e-04\n",
            "Epoch 34/100\n",
            "484/484 [==============================] - ETA: 0s - loss: 1.1908 - accuracy: 0.5481WARNING:tensorflow:Can save best model only with val_acc available, skipping.\n",
            "484/484 [==============================] - 31s 65ms/step - loss: 1.1908 - accuracy: 0.5481 - val_loss: 1.1363 - val_accuracy: 0.5753 - lr: 5.0000e-04\n",
            "Epoch 35/100\n",
            "484/484 [==============================] - ETA: 0s - loss: 1.1846 - accuracy: 0.5519WARNING:tensorflow:Can save best model only with val_acc available, skipping.\n",
            "484/484 [==============================] - 31s 64ms/step - loss: 1.1846 - accuracy: 0.5519 - val_loss: 1.1390 - val_accuracy: 0.5691 - lr: 5.0000e-04\n",
            "Epoch 36/100\n",
            "484/484 [==============================] - ETA: 0s - loss: 1.1784 - accuracy: 0.5532WARNING:tensorflow:Can save best model only with val_acc available, skipping.\n",
            "484/484 [==============================] - 31s 64ms/step - loss: 1.1784 - accuracy: 0.5532 - val_loss: 1.1941 - val_accuracy: 0.5518 - lr: 5.0000e-04\n",
            "Epoch 37/100\n",
            "484/484 [==============================] - ETA: 0s - loss: 1.1693 - accuracy: 0.5539WARNING:tensorflow:Can save best model only with val_acc available, skipping.\n",
            "\n",
            "Epoch 37: ReduceLROnPlateau reducing learning rate to 0.00010000000474974513.\n",
            "484/484 [==============================] - 32s 67ms/step - loss: 1.1693 - accuracy: 0.5539 - val_loss: 1.1428 - val_accuracy: 0.5662 - lr: 5.0000e-04\n",
            "Epoch 38/100\n",
            "484/484 [==============================] - ETA: 0s - loss: 1.1396 - accuracy: 0.5675WARNING:tensorflow:Can save best model only with val_acc available, skipping.\n",
            "484/484 [==============================] - 31s 64ms/step - loss: 1.1396 - accuracy: 0.5675 - val_loss: 1.0625 - val_accuracy: 0.6016 - lr: 1.0000e-04\n",
            "Epoch 39/100\n",
            "484/484 [==============================] - ETA: 0s - loss: 1.1230 - accuracy: 0.5761WARNING:tensorflow:Can save best model only with val_acc available, skipping.\n",
            "484/484 [==============================] - 31s 64ms/step - loss: 1.1230 - accuracy: 0.5761 - val_loss: 1.0589 - val_accuracy: 0.6066 - lr: 1.0000e-04\n",
            "Epoch 40/100\n",
            "484/484 [==============================] - ETA: 0s - loss: 1.1158 - accuracy: 0.5783WARNING:tensorflow:Can save best model only with val_acc available, skipping.\n",
            "484/484 [==============================] - 32s 67ms/step - loss: 1.1158 - accuracy: 0.5783 - val_loss: 1.0602 - val_accuracy: 0.6050 - lr: 1.0000e-04\n",
            "Epoch 41/100\n",
            "484/484 [==============================] - ETA: 0s - loss: 1.1065 - accuracy: 0.5790WARNING:tensorflow:Can save best model only with val_acc available, skipping.\n",
            "484/484 [==============================] - 31s 64ms/step - loss: 1.1065 - accuracy: 0.5790 - val_loss: 1.0488 - val_accuracy: 0.5998 - lr: 1.0000e-04\n",
            "Epoch 42/100\n",
            "484/484 [==============================] - ETA: 0s - loss: 1.1098 - accuracy: 0.5795WARNING:tensorflow:Can save best model only with val_acc available, skipping.\n",
            "484/484 [==============================] - 31s 64ms/step - loss: 1.1098 - accuracy: 0.5795 - val_loss: 1.0635 - val_accuracy: 0.5990 - lr: 1.0000e-04\n",
            "Epoch 43/100\n",
            "484/484 [==============================] - ETA: 0s - loss: 1.1066 - accuracy: 0.5802WARNING:tensorflow:Can save best model only with val_acc available, skipping.\n",
            "484/484 [==============================] - 31s 64ms/step - loss: 1.1066 - accuracy: 0.5802 - val_loss: 1.0538 - val_accuracy: 0.6021 - lr: 1.0000e-04\n",
            "Epoch 44/100\n",
            "484/484 [==============================] - ETA: 0s - loss: 1.1040 - accuracy: 0.5786WARNING:tensorflow:Can save best model only with val_acc available, skipping.\n",
            "484/484 [==============================] - 33s 67ms/step - loss: 1.1040 - accuracy: 0.5786 - val_loss: 1.0411 - val_accuracy: 0.6140 - lr: 1.0000e-04\n",
            "Epoch 45/100\n",
            "484/484 [==============================] - ETA: 0s - loss: 1.1022 - accuracy: 0.5822WARNING:tensorflow:Can save best model only with val_acc available, skipping.\n",
            "484/484 [==============================] - 31s 64ms/step - loss: 1.1022 - accuracy: 0.5822 - val_loss: 1.0563 - val_accuracy: 0.6059 - lr: 1.0000e-04\n",
            "Epoch 46/100\n",
            "484/484 [==============================] - ETA: 0s - loss: 1.0953 - accuracy: 0.5840WARNING:tensorflow:Can save best model only with val_acc available, skipping.\n",
            "484/484 [==============================] - 31s 65ms/step - loss: 1.0953 - accuracy: 0.5840 - val_loss: 1.0428 - val_accuracy: 0.6047 - lr: 1.0000e-04\n",
            "Epoch 47/100\n",
            "484/484 [==============================] - ETA: 0s - loss: 1.0994 - accuracy: 0.5836WARNING:tensorflow:Can save best model only with val_acc available, skipping.\n",
            "\n",
            "Epoch 47: ReduceLROnPlateau reducing learning rate to 2.0000000949949027e-05.\n",
            "484/484 [==============================] - 31s 64ms/step - loss: 1.0994 - accuracy: 0.5836 - val_loss: 1.0454 - val_accuracy: 0.6067 - lr: 1.0000e-04\n",
            "Epoch 48/100\n",
            "484/484 [==============================] - ETA: 0s - loss: 1.0889 - accuracy: 0.5899WARNING:tensorflow:Can save best model only with val_acc available, skipping.\n",
            "484/484 [==============================] - 31s 65ms/step - loss: 1.0889 - accuracy: 0.5899 - val_loss: 1.0376 - val_accuracy: 0.6104 - lr: 2.0000e-05\n",
            "Epoch 49/100\n",
            "484/484 [==============================] - ETA: 0s - loss: 1.0896 - accuracy: 0.5855WARNING:tensorflow:Can save best model only with val_acc available, skipping.\n",
            "484/484 [==============================] - 32s 65ms/step - loss: 1.0896 - accuracy: 0.5855 - val_loss: 1.0307 - val_accuracy: 0.6115 - lr: 2.0000e-05\n",
            "Epoch 50/100\n",
            "484/484 [==============================] - ETA: 0s - loss: 1.0843 - accuracy: 0.5910WARNING:tensorflow:Can save best model only with val_acc available, skipping.\n",
            "484/484 [==============================] - 32s 65ms/step - loss: 1.0843 - accuracy: 0.5910 - val_loss: 1.0282 - val_accuracy: 0.6147 - lr: 2.0000e-05\n",
            "Epoch 51/100\n",
            "484/484 [==============================] - ETA: 0s - loss: 1.0802 - accuracy: 0.5872WARNING:tensorflow:Can save best model only with val_acc available, skipping.\n",
            "484/484 [==============================] - 33s 67ms/step - loss: 1.0802 - accuracy: 0.5872 - val_loss: 1.0280 - val_accuracy: 0.6188 - lr: 2.0000e-05\n",
            "Epoch 52/100\n",
            "484/484 [==============================] - ETA: 0s - loss: 1.0811 - accuracy: 0.5919WARNING:tensorflow:Can save best model only with val_acc available, skipping.\n",
            "484/484 [==============================] - 31s 65ms/step - loss: 1.0811 - accuracy: 0.5919 - val_loss: 1.0380 - val_accuracy: 0.6122 - lr: 2.0000e-05\n",
            "Epoch 53/100\n",
            "484/484 [==============================] - ETA: 0s - loss: 1.0878 - accuracy: 0.5875WARNING:tensorflow:Can save best model only with val_acc available, skipping.\n",
            "484/484 [==============================] - 31s 65ms/step - loss: 1.0878 - accuracy: 0.5875 - val_loss: 1.0295 - val_accuracy: 0.6112 - lr: 2.0000e-05\n",
            "Epoch 54/100\n",
            "484/484 [==============================] - ETA: 0s - loss: 1.0771 - accuracy: 0.5915WARNING:tensorflow:Can save best model only with val_acc available, skipping.\n",
            "\n",
            "Epoch 54: ReduceLROnPlateau reducing learning rate to 4.000000262749381e-06.\n",
            "484/484 [==============================] - 31s 65ms/step - loss: 1.0771 - accuracy: 0.5915 - val_loss: 1.0363 - val_accuracy: 0.6061 - lr: 2.0000e-05\n",
            "Epoch 55/100\n",
            "484/484 [==============================] - ETA: 0s - loss: 1.0809 - accuracy: 0.5901WARNING:tensorflow:Can save best model only with val_acc available, skipping.\n",
            "484/484 [==============================] - 33s 67ms/step - loss: 1.0809 - accuracy: 0.5901 - val_loss: 1.0277 - val_accuracy: 0.6186 - lr: 4.0000e-06\n",
            "Epoch 56/100\n",
            "484/484 [==============================] - ETA: 0s - loss: 1.0798 - accuracy: 0.5922WARNING:tensorflow:Can save best model only with val_acc available, skipping.\n",
            "484/484 [==============================] - 31s 65ms/step - loss: 1.0798 - accuracy: 0.5922 - val_loss: 1.0377 - val_accuracy: 0.6164 - lr: 4.0000e-06\n",
            "Epoch 57/100\n",
            "484/484 [==============================] - ETA: 0s - loss: 1.0793 - accuracy: 0.5929WARNING:tensorflow:Can save best model only with val_acc available, skipping.\n",
            "484/484 [==============================] - 32s 65ms/step - loss: 1.0793 - accuracy: 0.5929 - val_loss: 1.0364 - val_accuracy: 0.6141 - lr: 4.0000e-06\n",
            "Epoch 58/100\n",
            "484/484 [==============================] - ETA: 0s - loss: 1.0767 - accuracy: 0.5930WARNING:tensorflow:Can save best model only with val_acc available, skipping.\n",
            "\n",
            "Epoch 58: ReduceLROnPlateau reducing learning rate to 8.000000889296644e-07.\n",
            "484/484 [==============================] - 31s 65ms/step - loss: 1.0767 - accuracy: 0.5930 - val_loss: 1.0342 - val_accuracy: 0.6119 - lr: 4.0000e-06\n",
            "Epoch 59/100\n",
            "484/484 [==============================] - ETA: 0s - loss: 1.0809 - accuracy: 0.5920Restoring model weights from the end of the best epoch: 55.\n",
            "WARNING:tensorflow:Can save best model only with val_acc available, skipping.\n",
            "484/484 [==============================] - 33s 68ms/step - loss: 1.0809 - accuracy: 0.5920 - val_loss: 1.0281 - val_accuracy: 0.6130 - lr: 8.0000e-07\n",
            "Epoch 59: early stopping\n"
          ]
        }
      ]
    },
    {
      "cell_type": "markdown",
      "source": [
        "# Plotting Accuracy & Loss"
      ],
      "metadata": {
        "id": "idJl3Qx37TZg"
      }
    },
    {
      "cell_type": "code",
      "source": [
        "plt.figure(figsize=(20,10))\n",
        "plt.subplot(1, 2, 1)\n",
        "plt.suptitle('Optimizer : Adam', fontsize=10)\n",
        "plt.ylabel('Loss', fontsize=16)\n",
        "plt.plot(history.history['loss'], label='Training Loss')\n",
        "plt.plot(history.history['val_loss'], label='Validation Loss')\n",
        "plt.legend(loc='upper right')\n",
        "\n",
        "plt.subplot(1, 2, 2)\n",
        "plt.ylabel('Accuracy', fontsize=16)\n",
        "plt.plot(history.history['accuracy'], label='Training Accuracy')\n",
        "plt.plot(history.history['val_accuracy'], label='Validation Accuracy')\n",
        "plt.legend(loc='lower right')\n",
        "plt.show()"
      ],
      "metadata": {
        "colab": {
          "base_uri": "https://localhost:8080/",
          "height": 663
        },
        "id": "B_oIpXJa2Ou7",
        "outputId": "774e23d3-bccb-486b-dcb7-08e87951d6df"
      },
      "execution_count": null,
      "outputs": [
        {
          "output_type": "display_data",
          "data": {
            "text/plain": [
              "<Figure size 1440x720 with 2 Axes>"
            ],
            "image/png": "[encoded data removed]"
          },
          "metadata": {
            "needs_background": "light"
          }
        }
      ]
    },
    {
      "cell_type": "markdown",
      "source": [
        "# Saving Model and Testing"
      ],
      "metadata": {
        "id": "TJe3Dm1k7VSB"
      }
    },
    {
      "cell_type": "code",
      "source": [
        "model.save('/content/drive/MyDrive/Deep-learning/my_model_final_final_final.h5')"
      ],
      "metadata": {
        "id": "cewOxXP4FKQm"
      },
      "execution_count": null,
      "outputs": []
    },
    {
      "cell_type": "code",
      "source": [
        "datagen_test = ImageDataGenerator(rescale=1./255,\n",
        "    rotation_range=30,\n",
        "    shear_range=0.3,\n",
        "    zoom_range=0.3,\n",
        "    width_shift_range=0.4,\n",
        "    height_shift_range=0.4,\n",
        "    horizontal_flip=True,\n",
        "    fill_mode='nearest')\n",
        "test_set = datagen_test.flow_from_directory(folder_path+\"test\",\n",
        "                                              target_size = (picture_size,picture_size),\n",
        "                                              color_mode = \"grayscale\",\n",
        "                                              batch_size=10,\n",
        "                                              class_mode='categorical',\n",
        "                                              shuffle=False)"
      ],
      "metadata": {
        "colab": {
          "base_uri": "https://localhost:8080/"
        },
        "id": "sP5u2hLIN6e-",
        "outputId": "bf52c846-3fd2-454f-d6b7-8f6b6a8dc9ca"
      },
      "execution_count": null,
      "outputs": [
        {
          "output_type": "stream",
          "name": "stdout",
          "text": [
            "Found 414 images belonging to 7 classes.\n"
          ]
        }
      ]
    },
    {
      "cell_type": "code",
      "source": [
        "model = tf.keras.models.load_model('/content/drive/MyDrive/Deep-learning/my_model_final.h5')"
      ],
      "metadata": {
        "id": "qhlum3lwN85j"
      },
      "execution_count": null,
      "outputs": []
    },
    {
      "cell_type": "code",
      "source": [
        "y = model.evaluate(test_set)"
      ],
      "metadata": {
        "id": "BYWISSzOOsAo",
        "colab": {
          "base_uri": "https://localhost:8080/"
        },
        "outputId": "0b62c6a3-deb9-4493-c176-f3969941e23a"
      },
      "execution_count": null,
      "outputs": [
        {
          "output_type": "stream",
          "name": "stdout",
          "text": [
            "42/42 [==============================] - 0s 10ms/step - loss: 0.2679 - accuracy: 0.9179\n"
          ]
        }
      ]
    }
  ]
}